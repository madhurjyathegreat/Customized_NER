{
  "nbformat": 4,
  "nbformat_minor": 0,
  "metadata": {
    "colab": {
      "name": "Untitled46.ipynb",
      "provenance": [],
      "machine_shape": "hm"
    },
    "kernelspec": {
      "name": "python3",
      "display_name": "Python 3"
    },
    "language_info": {
      "name": "python"
    },
    "accelerator": "GPU"
  },
  "cells": [
    {
      "cell_type": "code",
      "execution_count": 1,
      "metadata": {
        "colab": {
          "base_uri": "https://localhost:8080/"
        },
        "id": "FxkeND3v1f0j",
        "outputId": "479f934b-cde8-46f0-9215-dc49d6c903c4"
      },
      "outputs": [
        {
          "output_type": "stream",
          "name": "stdout",
          "text": [
            "Collecting scikit-learn==0.22.2\n",
            "  Downloading scikit_learn-0.22.2-cp37-cp37m-manylinux1_x86_64.whl (7.1 MB)\n",
            "\u001b[K     |████████████████████████████████| 7.1 MB 2.1 MB/s \n",
            "\u001b[?25hRequirement already satisfied: joblib>=0.11 in /usr/local/lib/python3.7/dist-packages (from scikit-learn==0.22.2) (1.1.0)\n",
            "Requirement already satisfied: scipy>=0.17.0 in /usr/local/lib/python3.7/dist-packages (from scikit-learn==0.22.2) (1.4.1)\n",
            "Requirement already satisfied: numpy>=1.11.0 in /usr/local/lib/python3.7/dist-packages (from scikit-learn==0.22.2) (1.21.6)\n",
            "Installing collected packages: scikit-learn\n",
            "\u001b[31mERROR: pip's dependency resolver does not currently take into account all the packages that are installed. This behaviour is the source of the following dependency conflicts.\n",
            "yellowbrick 1.4 requires scikit-learn>=1.0.0, but you have scikit-learn 0.22.2 which is incompatible.\n",
            "imbalanced-learn 0.8.1 requires scikit-learn>=0.24, but you have scikit-learn 0.22.2 which is incompatible.\u001b[0m\n",
            "Successfully installed scikit-learn-0.22.2\n"
          ]
        }
      ],
      "source": [
        "!pip install scikit-learn==0.22.2 --user"
      ]
    },
    {
      "cell_type": "code",
      "source": [
        "!pip install pycrf\n",
        "!pip install sklearn-crfsuite\n",
        "\n",
        "import spacy\n",
        "import sklearn_crfsuite\n",
        "from sklearn_crfsuite import metrics\n",
        "\n",
        "model = spacy.load(\"en_core_web_sm\")"
      ],
      "metadata": {
        "colab": {
          "base_uri": "https://localhost:8080/"
        },
        "id": "xeX0TBUX1w7j",
        "outputId": "92098dcd-e955-4214-a9a5-0dd5bd0552db"
      },
      "execution_count": 1,
      "outputs": [
        {
          "output_type": "stream",
          "name": "stdout",
          "text": [
            "Collecting pycrf\n",
            "  Downloading pycrf-0.0.1.tar.gz (1.1 kB)\n",
            "Building wheels for collected packages: pycrf\n",
            "  Building wheel for pycrf (setup.py) ... \u001b[?25l\u001b[?25hdone\n",
            "  Created wheel for pycrf: filename=pycrf-0.0.1-py3-none-any.whl size=1897 sha256=600148a481b658fb88acc750a6ed2989fdb86cf4980eca223ea63f18cf8e1247\n",
            "  Stored in directory: /root/.cache/pip/wheels/0b/68/37/a457e156cfd6174ed28c9c8cb76f18eeb559b760d84c0a22eb\n",
            "Successfully built pycrf\n",
            "Installing collected packages: pycrf\n",
            "Successfully installed pycrf-0.0.1\n",
            "Collecting sklearn-crfsuite\n",
            "  Downloading sklearn_crfsuite-0.3.6-py2.py3-none-any.whl (12 kB)\n",
            "Requirement already satisfied: tabulate in /usr/local/lib/python3.7/dist-packages (from sklearn-crfsuite) (0.8.9)\n",
            "Requirement already satisfied: six in /usr/local/lib/python3.7/dist-packages (from sklearn-crfsuite) (1.15.0)\n",
            "Requirement already satisfied: tqdm>=2.0 in /usr/local/lib/python3.7/dist-packages (from sklearn-crfsuite) (4.64.0)\n",
            "Collecting python-crfsuite>=0.8.3\n",
            "  Downloading python_crfsuite-0.9.8-cp37-cp37m-manylinux_2_17_x86_64.manylinux2014_x86_64.whl (965 kB)\n",
            "\u001b[K     |████████████████████████████████| 965 kB 4.1 MB/s \n",
            "\u001b[?25hInstalling collected packages: python-crfsuite, sklearn-crfsuite\n",
            "Successfully installed python-crfsuite-0.9.8 sklearn-crfsuite-0.3.6\n"
          ]
        }
      ]
    },
    {
      "cell_type": "code",
      "source": [
        "def combining_into_sentences(location):\n",
        "    list_of_all_sentences=[]\n",
        "    with open(location,\"r\") as file:\n",
        "        temp_string=\"\"\n",
        "        for each_word in file:\n",
        "            if each_word!=\"\\n\":\n",
        "                temp_string=temp_string+\" \"+(each_word) \n",
        "            if each_word==\"\\n\":\n",
        "                list_of_all_sentences.append(temp_string)\n",
        "                temp_string=\"\"\n",
        "    final_cleaned_sentences=[]\n",
        "    for each_sentence in list_of_all_sentences:\n",
        "        final_cleaned_sentences.append(each_sentence.replace(\"\\n\",\"\").strip())\n",
        "    return final_cleaned_sentences"
      ],
      "metadata": {
        "id": "f0V0t6OW1zl7"
      },
      "execution_count": 3,
      "outputs": []
    },
    {
      "cell_type": "code",
      "source": [
        "location_train=\"/content/train_sent\"\n",
        "training_sentences=combining_into_sentences(location_train)\n",
        "\n",
        "location_test=\"/content/test_sent\"\n",
        "test_sentences=combining_into_sentences(location_test)\n",
        "\n",
        "location_train_label=\"/content/train_label\"\n",
        "training_labels=combining_into_sentences(location_train_label)\n",
        "location_test_label=\"/content/test_label\"\n",
        "test_labels=combining_into_sentences(location_test_label)"
      ],
      "metadata": {
        "id": "OMxmVeoK14lM"
      },
      "execution_count": 4,
      "outputs": []
    },
    {
      "cell_type": "code",
      "source": [
        "### Printing top 5 sentences \n",
        "for i in range(1,6):\n",
        "    print(\"Sentence\",i,\"\",training_sentences[i-1])\n",
        "    print(len(training_sentences[i-1]))\n",
        "    print(\"Label\",i,\"\",training_labels[i-1])\n",
        "    print(len(training_labels[i-1]))"
      ],
      "metadata": {
        "colab": {
          "base_uri": "https://localhost:8080/"
        },
        "id": "3yr83e18153F",
        "outputId": "d07486fb-7da4-493d-ed04-0e6400ef9fdf"
      },
      "execution_count": 5,
      "outputs": [
        {
          "output_type": "stream",
          "name": "stdout",
          "text": [
            "Sentence 1  All live births > or = 23 weeks at the University of Vermont in 1995 ( n = 2395 ) were retrospectively analyzed for delivery route , indication for cesarean , gestational age , parity , and practice group ( to reflect risk status )\n",
            "231\n",
            "Label 1  O O O O O O O O O O O O O O O O O O O O O O O O O O O O O O O O O O O O O O O O O O O O O\n",
            "89\n",
            "Sentence 2  The total cesarean rate was 14.4 % ( 344 of 2395 ) , and the primary rate was 11.4 % ( 244 of 2144 )\n",
            "100\n",
            "Label 2  O O O O O O O O O O O O O O O O O O O O O O O O O\n",
            "49\n",
            "Sentence 3  Abnormal presentation was the most common indication ( 25.6 % , 88 of 344 )\n",
            "75\n",
            "Label 3  O O O O O O O O O O O O O O O\n",
            "29\n",
            "Sentence 4  The `` corrected '' cesarean rate ( maternal-fetal medicine and transported patients excluded ) was 12.4 % ( 273 of 2194 ) , and the `` corrected '' primary rate was 9.6 % ( 190 of 1975 )\n",
            "187\n",
            "Label 4  O O O O O O O O O O O O O O O O O O O O O O O O O O O O O O O O O O O O O O\n",
            "75\n",
            "Sentence 5  Arrest of dilation was the most common indication in both `` corrected '' subgroups ( 23.4 and 24.6 % , respectively )\n",
            "118\n",
            "Label 5  O O O O O O O O O O O O O O O O O O O O O O\n",
            "43\n"
          ]
        }
      ]
    },
    {
      "cell_type": "code",
      "source": [
        "nouns_tokens=[]\n",
        "for each_sentence in training_sentences:\n",
        "    nlp_sentence=model(each_sentence)\n",
        "    for each_token in nlp_sentence:\n",
        "        if each_token.pos_ =='NOUN' or each_token.pos_ =='PROPN':\n",
        "            nouns_tokens.append(each_token)\n",
        "\n",
        "for each_sentence in test_sentences:\n",
        "    nlp_sentence=model(each_sentence)\n",
        "    for each_token in nlp_sentence:\n",
        "        if each_token.pos_ =='NOUN' or each_token.pos_ =='PROPN':\n",
        "            nouns_tokens.append(each_token)"
      ],
      "metadata": {
        "id": "4BvpagVM17DL"
      },
      "execution_count": 6,
      "outputs": []
    },
    {
      "cell_type": "code",
      "source": [
        "# Defining a functions to get all the features of all the words in a sentence\n",
        "def featuresofallwords(sentence,pos):\n",
        "    transformed_nlp_sentence=model(sentence)\n",
        "    transformed_sentence_pos=[]\n",
        "    features_list_per_sentence=[]\n",
        "    for each_word in transformed_nlp_sentence:\n",
        "        transformed_sentence_pos.append(each_word.pos_)\n",
        "    sentence_to_list=sentence.split(\" \")\n",
        "    word = sentence_to_list[pos]\n",
        "    word_lower=word.lower()\n",
        "    last_three_characters=word[-3:]\n",
        "    last_two_characters=word[-2:]\n",
        "    word_upper=word.upper()\n",
        "    word_is_digit=str(word.isdigit())\n",
        "    word_starts_withcapital=str(word[0].isupper())\n",
        "    word_pos=transformed_sentence_pos[pos]\n",
        "    \n",
        "    features_list_per_sentence=[word_lower,last_three_characters,last_two_characters,\n",
        "                                     word_upper,word_is_digit,word_starts_withcapital,word_pos]\n",
        "    \n",
        "\n",
        "    if(pos > 0):\n",
        "            prev_word = sentence_to_list[pos-1]\n",
        "            previous_word_lower=prev_word.lower()\n",
        "            previous_word_isupper=str(prev_word.isupper())\n",
        "            previous_word_startswithcapital=str(prev_word[0].isupper())\n",
        "            \n",
        "            features_list_per_sentence.extend([previous_word_lower,previous_word_isupper,previous_word_startswithcapital])\n",
        "    else:\n",
        "         features_list_per_sentence.append('BEG')\n",
        "    if (pos==len(sentence_to_list)-1):\n",
        "        features_list_per_sentence.append('END')\n",
        "            \n",
        "    return features_list_per_sentence\n",
        "    "
      ],
      "metadata": {
        "id": "jiAWm37M19DG"
      },
      "execution_count": 7,
      "outputs": []
    },
    {
      "cell_type": "code",
      "source": [
        "# function to extract features given a document of sentences it takes in individual words and gives the features\n",
        "def individual_sentences_features_generation(sentence_count):\n",
        "    list_of_features_of_all_words_in1_sentence=[]\n",
        "    for i in range(len(training_sentences[sentence_count].split(\" \"))):\n",
        "        list_of_features_of_all_words_in1_sentence.append(featuresofallwords(training_sentences[sentence_count],i)) "
      ],
      "metadata": {
        "id": "OdPjMx7A1-3g"
      },
      "execution_count": 8,
      "outputs": []
    },
    {
      "cell_type": "code",
      "source": [
        "# Write a code to get features for a sentence.\n",
        " \n",
        "def getFeaturesForOneSentence(sentence_count):\n",
        "    list_of_features_of_all_words_in1_sentence=[]\n",
        "    for i in range(len(training_sentences[sentence_count].split(\" \"))):\n",
        "        list_of_features_of_all_words_in1_sentence.append(featuresofallwords(training_sentences[sentence_count],i))\n",
        "    return  list_of_features_of_all_words_in1_sentence  "
      ],
      "metadata": {
        "id": "gBkvNGJs2BKH"
      },
      "execution_count": 9,
      "outputs": []
    },
    {
      "cell_type": "code",
      "source": [
        "#Getting all the features of all the senetnces of training set\n",
        "list_of_all_sentences_features=[]\n",
        "for sentence_count in range(len(training_sentences)):\n",
        "    list_of_all_sentences_features.append(getFeaturesForOneSentence(sentence_count))"
      ],
      "metadata": {
        "id": "z-A2ZmMJ2Cen"
      },
      "execution_count": 10,
      "outputs": []
    },
    {
      "cell_type": "code",
      "source": [
        "# function to get all the feature of all the sentences in test set\n",
        "def getFeaturesForOneSentence_test(sentence_count):\n",
        "    list_of_features_of_all_words_in1_sentence=[]\n",
        "    for i in range(len(test_sentences[sentence_count].split(\" \"))):\n",
        "        list_of_features_of_all_words_in1_sentence.append(featuresofallwords(test_sentences[sentence_count],i))\n",
        "    return  list_of_features_of_all_words_in1_sentence  "
      ],
      "metadata": {
        "id": "DANJStLn2EAE"
      },
      "execution_count": 11,
      "outputs": []
    },
    {
      "cell_type": "code",
      "source": [
        "# Getting all the features of the test set\n",
        "list_of_all_sentences_features_test=[]\n",
        "for sentence_count in range(len(test_sentences)):\n",
        "    list_of_all_sentences_features_test.append(getFeaturesForOneSentence_test(sentence_count))"
      ],
      "metadata": {
        "id": "zgx3QdS_2FhW"
      },
      "execution_count": 12,
      "outputs": []
    },
    {
      "cell_type": "code",
      "source": [
        "# Write a code to get the labels for a sentence.\n",
        "def getLabelsInListForOneSentence(training_labels):\n",
        "    list_of_labels=[]\n",
        "    for i in range(len(training_labels)):\n",
        "            list_of_labels.append(training_labels[i])\n",
        "    return list_of_labels"
      ],
      "metadata": {
        "id": "LsGRalS-4TaU"
      },
      "execution_count": 13,
      "outputs": []
    },
    {
      "cell_type": "code",
      "source": [
        "X_train_own=list_of_all_sentences_features\n",
        "X_test_own=list_of_all_sentences_features_test"
      ],
      "metadata": {
        "id": "gD-A02e55N5G"
      },
      "execution_count": 14,
      "outputs": []
    },
    {
      "cell_type": "code",
      "source": [
        "y_train=getLabelsInListForOneSentence(training_labels)\n",
        "y_test=getLabelsInListForOneSentence(test_labels)"
      ],
      "metadata": {
        "id": "J6raBTkR5PzC"
      },
      "execution_count": 15,
      "outputs": []
    },
    {
      "cell_type": "code",
      "source": [
        "y_train_new=[]\n",
        "y_test_new=[]\n",
        "for each_label in y_train:\n",
        "    y_train_new.append(each_label.split(\" \"))\n",
        "for each_label in y_test:\n",
        "    y_test_new.append(each_label.split(\" \"))"
      ],
      "metadata": {
        "id": "RTrqaUaB5RUK"
      },
      "execution_count": 16,
      "outputs": []
    },
    {
      "cell_type": "code",
      "source": [
        "X_train_own[0][0]"
      ],
      "metadata": {
        "colab": {
          "base_uri": "https://localhost:8080/"
        },
        "id": "iS3qAlO_5S3y",
        "outputId": "fc0e8a73-5a8d-49e5-b702-fb33fc83d77a"
      },
      "execution_count": 18,
      "outputs": [
        {
          "output_type": "execute_result",
          "data": {
            "text/plain": [
              "['all', 'All', 'll', 'ALL', 'False', 'True', 'DET', 'BEG']"
            ]
          },
          "metadata": {},
          "execution_count": 18
        }
      ]
    },
    {
      "cell_type": "code",
      "source": [
        "y_train_new[0]"
      ],
      "metadata": {
        "colab": {
          "base_uri": "https://localhost:8080/"
        },
        "id": "_Ffgc5M-5U21",
        "outputId": "f2e97ba6-77c8-48c0-b954-d61d8507c6d2"
      },
      "execution_count": 19,
      "outputs": [
        {
          "output_type": "execute_result",
          "data": {
            "text/plain": [
              "['O',\n",
              " 'O',\n",
              " 'O',\n",
              " 'O',\n",
              " 'O',\n",
              " 'O',\n",
              " 'O',\n",
              " 'O',\n",
              " 'O',\n",
              " 'O',\n",
              " 'O',\n",
              " 'O',\n",
              " 'O',\n",
              " 'O',\n",
              " 'O',\n",
              " 'O',\n",
              " 'O',\n",
              " 'O',\n",
              " 'O',\n",
              " 'O',\n",
              " 'O',\n",
              " 'O',\n",
              " 'O',\n",
              " 'O',\n",
              " 'O',\n",
              " 'O',\n",
              " 'O',\n",
              " 'O',\n",
              " 'O',\n",
              " 'O',\n",
              " 'O',\n",
              " 'O',\n",
              " 'O',\n",
              " 'O',\n",
              " 'O',\n",
              " 'O',\n",
              " 'O',\n",
              " 'O',\n",
              " 'O',\n",
              " 'O',\n",
              " 'O',\n",
              " 'O',\n",
              " 'O',\n",
              " 'O',\n",
              " 'O']"
            ]
          },
          "metadata": {},
          "execution_count": 19
        }
      ]
    },
    {
      "cell_type": "code",
      "source": [
        "crf = sklearn_crfsuite.CRF(max_iterations=100)\n",
        "crf.fit(X_train_own,y_train_new)"
      ],
      "metadata": {
        "colab": {
          "base_uri": "https://localhost:8080/"
        },
        "id": "7-kD5jsc5cSK",
        "outputId": "30653fec-27c3-4500-d762-6fa050dac695"
      },
      "execution_count": 17,
      "outputs": [
        {
          "output_type": "stream",
          "name": "stderr",
          "text": [
            "/usr/local/lib/python3.7/dist-packages/sklearn/base.py:197: FutureWarning: From version 0.24, get_params will raise an AttributeError if a parameter cannot be retrieved as an instance attribute. Previously it would return None.\n",
            "  FutureWarning)\n"
          ]
        },
        {
          "output_type": "execute_result",
          "data": {
            "text/plain": [
              "CRF(algorithm=None, all_possible_states=None, all_possible_transitions=None,\n",
              "    averaging=None, c=None, c1=None, c2=None, calibration_candidates=None,\n",
              "    calibration_eta=None, calibration_max_trials=None, calibration_rate=None,\n",
              "    calibration_samples=None, delta=None, epsilon=None, error_sensitive=None,\n",
              "    gamma=None, keep_tempfiles=None, linesearch=None, max_iterations=100,\n",
              "    max_linesearch=None, min_freq=None, model_filename=None, num_memories=None,\n",
              "    pa_type=None, period=None, trainer_cls=None, variance=None, verbose=False)"
            ]
          },
          "metadata": {},
          "execution_count": 17
        }
      ]
    },
    {
      "cell_type": "code",
      "source": [
        "#!pip install scikit-learn==0.22.0"
      ],
      "metadata": {
        "colab": {
          "base_uri": "https://localhost:8080/",
          "height": 383
        },
        "id": "NUqZIhbx7Aee",
        "outputId": "64f30872-8410-4466-cdce-a167cd6d1555"
      },
      "execution_count": 3,
      "outputs": [
        {
          "output_type": "stream",
          "name": "stdout",
          "text": [
            "Collecting scikit-learn==0.22.0\n",
            "  Downloading scikit_learn-0.22-cp37-cp37m-manylinux1_x86_64.whl (7.0 MB)\n",
            "\u001b[K     |████████████████████████████████| 7.0 MB 4.1 MB/s \n",
            "\u001b[?25hRequirement already satisfied: numpy>=1.11.0 in /usr/local/lib/python3.7/dist-packages (from scikit-learn==0.22.0) (1.21.6)\n",
            "Requirement already satisfied: scipy>=0.17.0 in /usr/local/lib/python3.7/dist-packages (from scikit-learn==0.22.0) (1.4.1)\n",
            "Requirement already satisfied: joblib>=0.11 in /usr/local/lib/python3.7/dist-packages (from scikit-learn==0.22.0) (1.1.0)\n",
            "Installing collected packages: scikit-learn\n",
            "  Attempting uninstall: scikit-learn\n",
            "    Found existing installation: scikit-learn 1.0.2\n",
            "    Uninstalling scikit-learn-1.0.2:\n",
            "      Successfully uninstalled scikit-learn-1.0.2\n",
            "\u001b[31mERROR: pip's dependency resolver does not currently take into account all the packages that are installed. This behaviour is the source of the following dependency conflicts.\n",
            "yellowbrick 1.4 requires scikit-learn>=1.0.0, but you have scikit-learn 0.22 which is incompatible.\n",
            "imbalanced-learn 0.8.1 requires scikit-learn>=0.24, but you have scikit-learn 0.22 which is incompatible.\u001b[0m\n",
            "Successfully installed scikit-learn-0.22\n"
          ]
        },
        {
          "output_type": "display_data",
          "data": {
            "application/vnd.colab-display-data+json": {
              "pip_warning": {
                "packages": [
                  "sklearn"
                ]
              }
            }
          },
          "metadata": {}
        }
      ]
    },
    {
      "cell_type": "code",
      "source": [
        "predicted_tags=crf.predict(X_test_own)"
      ],
      "metadata": {
        "id": "lmVESPEB7Pd1"
      },
      "execution_count": 18,
      "outputs": []
    },
    {
      "cell_type": "code",
      "source": [
        "metrics.flat_f1_score(y_test_new,predicted_tags,average='weighted')"
      ],
      "metadata": {
        "colab": {
          "base_uri": "https://localhost:8080/"
        },
        "id": "JE0YZVOF-Jak",
        "outputId": "f33d477f-1a33-403b-a782-8d091289fcca"
      },
      "execution_count": 19,
      "outputs": [
        {
          "output_type": "execute_result",
          "data": {
            "text/plain": [
              "0.9013443782511653"
            ]
          },
          "metadata": {},
          "execution_count": 19
        }
      ]
    },
    {
      "cell_type": "code",
      "source": [
        "disease_dictionary=dict()\n",
        "disease_list=[]\n",
        "for i in range(len(predicted_tags)):\n",
        "  temp_list=[]\n",
        "  temp_string=\"\"\n",
        "  for j in range(len(predicted_tags[i])):\n",
        "    if predicted_tags[i][j]=='D':\n",
        "      #print(predicted_tags[i])\n",
        "      #print(test_sentences[i])\n",
        "      #print(test_sentences[i].split(\" \")[j])\n",
        "      temp_list.append(test_sentences[i].split(\" \")[j])\n",
        "      temp_string=\" \".join(temp_list)\n",
        "  disease_list.append(temp_string)\n",
        "    \n"
      ],
      "metadata": {
        "id": "7lJCuH4Y-Kzz"
      },
      "execution_count": 90,
      "outputs": []
    },
    {
      "cell_type": "code",
      "source": [
        "treatment_list=[]\n",
        "for i in range(len(predicted_tags)):\n",
        "  temp_list=[]\n",
        "  temp_string=\"\"\n",
        "  for j in range(len(predicted_tags[i])):\n",
        "    if predicted_tags[i][j]=='T':\n",
        "      #print(predicted_tags[i])\n",
        "      #print(test_sentences[i])\n",
        "      #print(test_sentences[i].split(\" \")[j])\n",
        "      temp_list.append(test_sentences[i].split(\" \")[j])\n",
        "      temp_string=\" \".join(temp_list)\n",
        "  treatment_list.append(temp_string)\n",
        "    "
      ],
      "metadata": {
        "id": "vKsNrRwf-NFR"
      },
      "execution_count": 36,
      "outputs": []
    },
    {
      "cell_type": "code",
      "source": [
        "new_disease_list=[]\n",
        "new_treatment_list=[]\n",
        "for i in range(len(disease_list)):\n",
        "  if (len(disease_list[i])==0) or (len(treatment_list[i])==0):\n",
        "    pass\n",
        "  else:\n",
        "    new_disease_list.append(disease_list[i])\n",
        "    new_treatment_list.append(treatment_list[i])"
      ],
      "metadata": {
        "id": "pyF4LfOzExAq"
      },
      "execution_count": 108,
      "outputs": []
    },
    {
      "cell_type": "code",
      "source": [
        "new_disease_list[:5]"
      ],
      "metadata": {
        "colab": {
          "base_uri": "https://localhost:8080/"
        },
        "id": "K6wD3VPIFY2g",
        "outputId": "b87222da-8afd-4abc-c7ce-27d85d651536"
      },
      "execution_count": 109,
      "outputs": [
        {
          "output_type": "execute_result",
          "data": {
            "text/plain": [
              "['nonimmune hydrops fetalis',\n",
              " 'unstable angina or non-Q-wave myocardial infarction',\n",
              " 'cardiac disease',\n",
              " \"early Parkinson 's disease\",\n",
              " 'sore throat']"
            ]
          },
          "metadata": {},
          "execution_count": 109
        }
      ]
    },
    {
      "cell_type": "code",
      "source": [
        "new_treatment_list[:5]"
      ],
      "metadata": {
        "colab": {
          "base_uri": "https://localhost:8080/"
        },
        "id": "mznl0i21GUJl",
        "outputId": "bac0211d-1ff4-4ae1-ac9d-27e4fc23b078"
      },
      "execution_count": 110,
      "outputs": [
        {
          "output_type": "execute_result",
          "data": {
            "text/plain": [
              "['Trisomy',\n",
              " 'roxithromycin',\n",
              " 'fenfluramine-phentermine',\n",
              " 'Ropinirole monotherapy',\n",
              " 'Antibiotics']"
            ]
          },
          "metadata": {},
          "execution_count": 110
        }
      ]
    },
    {
      "cell_type": "code",
      "source": [
        "## Creating a DataFrame\n",
        "import pandas as pd\n",
        "diseases_treatment=pd.DataFrame()\n",
        "diseases_treatment['diseases']=new_disease_list\n",
        "diseases_treatment['treatment']=new_treatment_list"
      ],
      "metadata": {
        "id": "_QiMaa34BXdi"
      },
      "execution_count": 111,
      "outputs": []
    },
    {
      "cell_type": "code",
      "source": [
        "diseases_treatment.head()"
      ],
      "metadata": {
        "colab": {
          "base_uri": "https://localhost:8080/",
          "height": 206
        },
        "id": "_xyITY5KGgu7",
        "outputId": "3dd436ca-2372-4d87-8efd-46a9590f5a9e"
      },
      "execution_count": 112,
      "outputs": [
        {
          "output_type": "execute_result",
          "data": {
            "text/plain": [
              "                                            diseases                 treatment\n",
              "0                          nonimmune hydrops fetalis                   Trisomy\n",
              "1  unstable angina or non-Q-wave myocardial infar...             roxithromycin\n",
              "2                                    cardiac disease  fenfluramine-phentermine\n",
              "3                         early Parkinson 's disease    Ropinirole monotherapy\n",
              "4                                        sore throat               Antibiotics"
            ],
            "text/html": [
              "\n",
              "  <div id=\"df-9a6058ad-c899-4ae9-b2bc-c243beca952f\">\n",
              "    <div class=\"colab-df-container\">\n",
              "      <div>\n",
              "<style scoped>\n",
              "    .dataframe tbody tr th:only-of-type {\n",
              "        vertical-align: middle;\n",
              "    }\n",
              "\n",
              "    .dataframe tbody tr th {\n",
              "        vertical-align: top;\n",
              "    }\n",
              "\n",
              "    .dataframe thead th {\n",
              "        text-align: right;\n",
              "    }\n",
              "</style>\n",
              "<table border=\"1\" class=\"dataframe\">\n",
              "  <thead>\n",
              "    <tr style=\"text-align: right;\">\n",
              "      <th></th>\n",
              "      <th>diseases</th>\n",
              "      <th>treatment</th>\n",
              "    </tr>\n",
              "  </thead>\n",
              "  <tbody>\n",
              "    <tr>\n",
              "      <th>0</th>\n",
              "      <td>nonimmune hydrops fetalis</td>\n",
              "      <td>Trisomy</td>\n",
              "    </tr>\n",
              "    <tr>\n",
              "      <th>1</th>\n",
              "      <td>unstable angina or non-Q-wave myocardial infar...</td>\n",
              "      <td>roxithromycin</td>\n",
              "    </tr>\n",
              "    <tr>\n",
              "      <th>2</th>\n",
              "      <td>cardiac disease</td>\n",
              "      <td>fenfluramine-phentermine</td>\n",
              "    </tr>\n",
              "    <tr>\n",
              "      <th>3</th>\n",
              "      <td>early Parkinson 's disease</td>\n",
              "      <td>Ropinirole monotherapy</td>\n",
              "    </tr>\n",
              "    <tr>\n",
              "      <th>4</th>\n",
              "      <td>sore throat</td>\n",
              "      <td>Antibiotics</td>\n",
              "    </tr>\n",
              "  </tbody>\n",
              "</table>\n",
              "</div>\n",
              "      <button class=\"colab-df-convert\" onclick=\"convertToInteractive('df-9a6058ad-c899-4ae9-b2bc-c243beca952f')\"\n",
              "              title=\"Convert this dataframe to an interactive table.\"\n",
              "              style=\"display:none;\">\n",
              "        \n",
              "  <svg xmlns=\"http://www.w3.org/2000/svg\" height=\"24px\"viewBox=\"0 0 24 24\"\n",
              "       width=\"24px\">\n",
              "    <path d=\"M0 0h24v24H0V0z\" fill=\"none\"/>\n",
              "    <path d=\"M18.56 5.44l.94 2.06.94-2.06 2.06-.94-2.06-.94-.94-2.06-.94 2.06-2.06.94zm-11 1L8.5 8.5l.94-2.06 2.06-.94-2.06-.94L8.5 2.5l-.94 2.06-2.06.94zm10 10l.94 2.06.94-2.06 2.06-.94-2.06-.94-.94-2.06-.94 2.06-2.06.94z\"/><path d=\"M17.41 7.96l-1.37-1.37c-.4-.4-.92-.59-1.43-.59-.52 0-1.04.2-1.43.59L10.3 9.45l-7.72 7.72c-.78.78-.78 2.05 0 2.83L4 21.41c.39.39.9.59 1.41.59.51 0 1.02-.2 1.41-.59l7.78-7.78 2.81-2.81c.8-.78.8-2.07 0-2.86zM5.41 20L4 18.59l7.72-7.72 1.47 1.35L5.41 20z\"/>\n",
              "  </svg>\n",
              "      </button>\n",
              "      \n",
              "  <style>\n",
              "    .colab-df-container {\n",
              "      display:flex;\n",
              "      flex-wrap:wrap;\n",
              "      gap: 12px;\n",
              "    }\n",
              "\n",
              "    .colab-df-convert {\n",
              "      background-color: #E8F0FE;\n",
              "      border: none;\n",
              "      border-radius: 50%;\n",
              "      cursor: pointer;\n",
              "      display: none;\n",
              "      fill: #1967D2;\n",
              "      height: 32px;\n",
              "      padding: 0 0 0 0;\n",
              "      width: 32px;\n",
              "    }\n",
              "\n",
              "    .colab-df-convert:hover {\n",
              "      background-color: #E2EBFA;\n",
              "      box-shadow: 0px 1px 2px rgba(60, 64, 67, 0.3), 0px 1px 3px 1px rgba(60, 64, 67, 0.15);\n",
              "      fill: #174EA6;\n",
              "    }\n",
              "\n",
              "    [theme=dark] .colab-df-convert {\n",
              "      background-color: #3B4455;\n",
              "      fill: #D2E3FC;\n",
              "    }\n",
              "\n",
              "    [theme=dark] .colab-df-convert:hover {\n",
              "      background-color: #434B5C;\n",
              "      box-shadow: 0px 1px 3px 1px rgba(0, 0, 0, 0.15);\n",
              "      filter: drop-shadow(0px 1px 2px rgba(0, 0, 0, 0.3));\n",
              "      fill: #FFFFFF;\n",
              "    }\n",
              "  </style>\n",
              "\n",
              "      <script>\n",
              "        const buttonEl =\n",
              "          document.querySelector('#df-9a6058ad-c899-4ae9-b2bc-c243beca952f button.colab-df-convert');\n",
              "        buttonEl.style.display =\n",
              "          google.colab.kernel.accessAllowed ? 'block' : 'none';\n",
              "\n",
              "        async function convertToInteractive(key) {\n",
              "          const element = document.querySelector('#df-9a6058ad-c899-4ae9-b2bc-c243beca952f');\n",
              "          const dataTable =\n",
              "            await google.colab.kernel.invokeFunction('convertToInteractive',\n",
              "                                                     [key], {});\n",
              "          if (!dataTable) return;\n",
              "\n",
              "          const docLinkHtml = 'Like what you see? Visit the ' +\n",
              "            '<a target=\"_blank\" href=https://colab.research.google.com/notebooks/data_table.ipynb>data table notebook</a>'\n",
              "            + ' to learn more about interactive tables.';\n",
              "          element.innerHTML = '';\n",
              "          dataTable['output_type'] = 'display_data';\n",
              "          await google.colab.output.renderOutput(dataTable, element);\n",
              "          const docLink = document.createElement('div');\n",
              "          docLink.innerHTML = docLinkHtml;\n",
              "          element.appendChild(docLink);\n",
              "        }\n",
              "      </script>\n",
              "    </div>\n",
              "  </div>\n",
              "  "
            ]
          },
          "metadata": {},
          "execution_count": 112
        }
      ]
    },
    {
      "cell_type": "code",
      "source": [
        "diseases_treatment[diseases_treatment['diseases']=='hereditary retinoblastoma']"
      ],
      "metadata": {
        "colab": {
          "base_uri": "https://localhost:8080/",
          "height": 49
        },
        "id": "KnVyXt5SHN_i",
        "outputId": "5d74df81-3ede-49dd-af6c-e776e489bbd6"
      },
      "execution_count": 113,
      "outputs": [
        {
          "output_type": "execute_result",
          "data": {
            "text/plain": [
              "Empty DataFrame\n",
              "Columns: [diseases, treatment]\n",
              "Index: []"
            ],
            "text/html": [
              "\n",
              "  <div id=\"df-9e135e88-bb21-4065-9574-220a72d80323\">\n",
              "    <div class=\"colab-df-container\">\n",
              "      <div>\n",
              "<style scoped>\n",
              "    .dataframe tbody tr th:only-of-type {\n",
              "        vertical-align: middle;\n",
              "    }\n",
              "\n",
              "    .dataframe tbody tr th {\n",
              "        vertical-align: top;\n",
              "    }\n",
              "\n",
              "    .dataframe thead th {\n",
              "        text-align: right;\n",
              "    }\n",
              "</style>\n",
              "<table border=\"1\" class=\"dataframe\">\n",
              "  <thead>\n",
              "    <tr style=\"text-align: right;\">\n",
              "      <th></th>\n",
              "      <th>diseases</th>\n",
              "      <th>treatment</th>\n",
              "    </tr>\n",
              "  </thead>\n",
              "  <tbody>\n",
              "  </tbody>\n",
              "</table>\n",
              "</div>\n",
              "      <button class=\"colab-df-convert\" onclick=\"convertToInteractive('df-9e135e88-bb21-4065-9574-220a72d80323')\"\n",
              "              title=\"Convert this dataframe to an interactive table.\"\n",
              "              style=\"display:none;\">\n",
              "        \n",
              "  <svg xmlns=\"http://www.w3.org/2000/svg\" height=\"24px\"viewBox=\"0 0 24 24\"\n",
              "       width=\"24px\">\n",
              "    <path d=\"M0 0h24v24H0V0z\" fill=\"none\"/>\n",
              "    <path d=\"M18.56 5.44l.94 2.06.94-2.06 2.06-.94-2.06-.94-.94-2.06-.94 2.06-2.06.94zm-11 1L8.5 8.5l.94-2.06 2.06-.94-2.06-.94L8.5 2.5l-.94 2.06-2.06.94zm10 10l.94 2.06.94-2.06 2.06-.94-2.06-.94-.94-2.06-.94 2.06-2.06.94z\"/><path d=\"M17.41 7.96l-1.37-1.37c-.4-.4-.92-.59-1.43-.59-.52 0-1.04.2-1.43.59L10.3 9.45l-7.72 7.72c-.78.78-.78 2.05 0 2.83L4 21.41c.39.39.9.59 1.41.59.51 0 1.02-.2 1.41-.59l7.78-7.78 2.81-2.81c.8-.78.8-2.07 0-2.86zM5.41 20L4 18.59l7.72-7.72 1.47 1.35L5.41 20z\"/>\n",
              "  </svg>\n",
              "      </button>\n",
              "      \n",
              "  <style>\n",
              "    .colab-df-container {\n",
              "      display:flex;\n",
              "      flex-wrap:wrap;\n",
              "      gap: 12px;\n",
              "    }\n",
              "\n",
              "    .colab-df-convert {\n",
              "      background-color: #E8F0FE;\n",
              "      border: none;\n",
              "      border-radius: 50%;\n",
              "      cursor: pointer;\n",
              "      display: none;\n",
              "      fill: #1967D2;\n",
              "      height: 32px;\n",
              "      padding: 0 0 0 0;\n",
              "      width: 32px;\n",
              "    }\n",
              "\n",
              "    .colab-df-convert:hover {\n",
              "      background-color: #E2EBFA;\n",
              "      box-shadow: 0px 1px 2px rgba(60, 64, 67, 0.3), 0px 1px 3px 1px rgba(60, 64, 67, 0.15);\n",
              "      fill: #174EA6;\n",
              "    }\n",
              "\n",
              "    [theme=dark] .colab-df-convert {\n",
              "      background-color: #3B4455;\n",
              "      fill: #D2E3FC;\n",
              "    }\n",
              "\n",
              "    [theme=dark] .colab-df-convert:hover {\n",
              "      background-color: #434B5C;\n",
              "      box-shadow: 0px 1px 3px 1px rgba(0, 0, 0, 0.15);\n",
              "      filter: drop-shadow(0px 1px 2px rgba(0, 0, 0, 0.3));\n",
              "      fill: #FFFFFF;\n",
              "    }\n",
              "  </style>\n",
              "\n",
              "      <script>\n",
              "        const buttonEl =\n",
              "          document.querySelector('#df-9e135e88-bb21-4065-9574-220a72d80323 button.colab-df-convert');\n",
              "        buttonEl.style.display =\n",
              "          google.colab.kernel.accessAllowed ? 'block' : 'none';\n",
              "\n",
              "        async function convertToInteractive(key) {\n",
              "          const element = document.querySelector('#df-9e135e88-bb21-4065-9574-220a72d80323');\n",
              "          const dataTable =\n",
              "            await google.colab.kernel.invokeFunction('convertToInteractive',\n",
              "                                                     [key], {});\n",
              "          if (!dataTable) return;\n",
              "\n",
              "          const docLinkHtml = 'Like what you see? Visit the ' +\n",
              "            '<a target=\"_blank\" href=https://colab.research.google.com/notebooks/data_table.ipynb>data table notebook</a>'\n",
              "            + ' to learn more about interactive tables.';\n",
              "          element.innerHTML = '';\n",
              "          dataTable['output_type'] = 'display_data';\n",
              "          await google.colab.output.renderOutput(dataTable, element);\n",
              "          const docLink = document.createElement('div');\n",
              "          docLink.innerHTML = docLinkHtml;\n",
              "          element.appendChild(docLink);\n",
              "        }\n",
              "      </script>\n",
              "    </div>\n",
              "  </div>\n",
              "  "
            ]
          },
          "metadata": {},
          "execution_count": 113
        }
      ]
    },
    {
      "cell_type": "code",
      "source": [
        ""
      ],
      "metadata": {
        "id": "UzPCrC65RpD4"
      },
      "execution_count": null,
      "outputs": []
    }
  ]
}